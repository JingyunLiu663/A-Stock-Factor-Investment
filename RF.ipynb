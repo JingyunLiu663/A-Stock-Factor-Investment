{
 "cells": [
  {
   "cell_type": "code",
   "execution_count": 2,
   "metadata": {},
   "outputs": [
    {
     "name": "stdout",
     "output_type": "stream",
     "text": [
      "            000001.SZ  000002.SZ  000004.SZ  000005.SZ  000006.SZ  000007.SZ  \\\n",
      "date                                                                           \n",
      "2007-01-04   0.047482   0.061368   0.088638   0.186231   0.065688   0.122858   \n",
      "2007-01-05   0.188363   0.084177   0.094316   0.107551  -0.016348   0.037043   \n",
      "2007-01-08   0.219149   0.158273   0.103618   0.111985   0.006898   0.031495   \n",
      "2007-01-09   0.233333   0.230769   0.096691   0.135329   0.075422   0.031128   \n",
      "2007-01-10   0.208806   0.006994   0.083142   0.096759  -0.043272   0.007674   \n",
      "\n",
      "            000008.SZ  000009.SZ  000010.SZ  000011.SZ  ...  603987.SH  \\\n",
      "date                                                    ...              \n",
      "2007-01-04   0.250000   0.125307        0.0   0.128390  ...        NaN   \n",
      "2007-01-05   0.122891   0.073622        0.0   0.079454  ...        NaN   \n",
      "2007-01-08   0.140277   0.086213        0.0   0.092567  ...        NaN   \n",
      "2007-01-09   0.130120   0.044423        0.0   0.123708  ...        NaN   \n",
      "2007-01-10   0.000000  -0.026172        0.0   0.017069  ...        NaN   \n",
      "\n",
      "            603988.SH  603989.SH  603990.SH  603991.SH  603993.SH  603996.SH  \\\n",
      "date                                                                           \n",
      "2007-01-04        NaN        NaN        NaN        NaN        NaN        NaN   \n",
      "2007-01-05        NaN        NaN        NaN        NaN        NaN        NaN   \n",
      "2007-01-08        NaN        NaN        NaN        NaN        NaN        NaN   \n",
      "2007-01-09        NaN        NaN        NaN        NaN        NaN        NaN   \n",
      "2007-01-10        NaN        NaN        NaN        NaN        NaN        NaN   \n",
      "\n",
      "            603997.SH  603998.SH  603999.SH  \n",
      "date                                         \n",
      "2007-01-04        NaN        NaN        NaN  \n",
      "2007-01-05        NaN        NaN        NaN  \n",
      "2007-01-08        NaN        NaN        NaN  \n",
      "2007-01-09        NaN        NaN        NaN  \n",
      "2007-01-10        NaN        NaN        NaN  \n",
      "\n",
      "[5 rows x 3584 columns]\n",
      "            SH000001  SH000300  SH000905  SH000906\n",
      "2007-04-01  0.049606  0.079600  0.132588  0.091227\n",
      "2007-05-01  0.033619  0.048662  0.062853  0.051875\n",
      "2007-08-01  0.057388  0.073083  0.072668  0.073045\n",
      "2007-09-01  0.030958  0.069897  0.086235  0.073611\n",
      "2007-10-01 -0.004019  0.023475  0.048856  0.029213\n",
      "['NonCurrentAssetsRatio.csv', 'NonOperatingNPTTM.csv', 'REVS750.csv', 'TVMA6.csv', 'DAVOL20.csv', 'GainLossVarianceRatio60.csv', 'InterestCover.csv', 'PEIndu.csv', 'PBIndu.csv', 'GainLossVarianceRatio120.csv', 'GainVariance120.csv', 'MoneyFlow20.csv', 'VEMA10.csv', 'DAREV.csv', 'PEHist250.csv', 'PE.csv', 'TVMA20.csv', 'GainLossVarianceRatio20.csv', 'STOM.csv', 'AD.csv', 'ROAEBITTTM.csv', 'SaleServiceRenderCashTTM.csv', 'LongTermDebtToAsset.csv', 'TVSTD20.csv', 'InformationRatio120.csv', 'SBM.csv', 'PSIndu.csv', 'SalesCostRatio.csv', 'ILLIQUIDITY.csv', 'SalesExpenseTTM.csv', 'FinancialExpenseRate.csv', 'RealizedVolatility.csv', 'ROE5.csv', 'SUE.csv', 'PEHist60.csv', 'PEHist120.csv', 'EMA26.csv', 'MktValue.csv', 'PCFIndu.csv', 'InformationRatio60.csv', 'GREV.csv', 'Price1Y.csv', 'GainVariance20.csv', 'ATR14.csv']\n",
      "\n",
      "            000001.SZ  000002.SZ  000004.SZ  000005.SZ  000006.SZ  000007.SZ  \\\n",
      "date                                                                           \n",
      "2008-01-02        NaN  -1.350201  -0.862063   0.792519  -1.640714   0.967174   \n",
      "2008-01-03        NaN  -1.350201  -0.862063   0.792519  -1.640714   0.967174   \n",
      "2008-01-04        NaN  -1.350201  -0.862063   0.792519  -1.640714   0.967174   \n",
      "2008-01-07        NaN  -1.350201  -0.862063   0.792519  -1.640714   0.967174   \n",
      "2008-01-08        NaN  -1.350201  -0.862063   0.792519  -1.640714   0.967174   \n",
      "\n",
      "            000008.SZ  000009.SZ  000010.SZ  000011.SZ  ...  603987.SH  \\\n",
      "date                                                    ...              \n",
      "2008-01-02  -0.208118   -0.27368  -0.342483   2.198878  ...        NaN   \n",
      "2008-01-03  -0.208118   -0.27368  -0.342483   2.198878  ...        NaN   \n",
      "2008-01-04  -0.208118   -0.27368  -0.342483   2.198878  ...        NaN   \n",
      "2008-01-07  -0.208118   -0.27368  -0.342483   2.198878  ...        NaN   \n",
      "2008-01-08  -0.208118   -0.27368  -0.342483   2.198878  ...        NaN   \n",
      "\n",
      "            603988.SH  603989.SH  603990.SH  603991.SH  603993.SH  603996.SH  \\\n",
      "date                                                                           \n",
      "2008-01-02        NaN        NaN        NaN        NaN        NaN        NaN   \n",
      "2008-01-03        NaN        NaN        NaN        NaN        NaN        NaN   \n",
      "2008-01-04        NaN        NaN        NaN        NaN        NaN        NaN   \n",
      "2008-01-07        NaN        NaN        NaN        NaN        NaN        NaN   \n",
      "2008-01-08        NaN        NaN        NaN        NaN        NaN        NaN   \n",
      "\n",
      "            603997.SH  603998.SH  603999.SH  \n",
      "date                                         \n",
      "2008-01-02        NaN        NaN        NaN  \n",
      "2008-01-03        NaN        NaN        NaN  \n",
      "2008-01-04        NaN        NaN        NaN  \n",
      "2008-01-07        NaN        NaN        NaN  \n",
      "2008-01-08        NaN        NaN        NaN  \n",
      "\n",
      "[5 rows x 3569 columns]\n"
     ]
    }
   ],
   "source": [
    "import pandas as pd\n",
    "import os\n",
    "from scipy import stats\n",
    "import numpy as np\n",
    "from os import listdir\n",
    "import string\n",
    "from sklearn.metrics import mean_squared_error\n",
    "\n",
    "csv_path = \"F:\\Business Intelligence\\project\\project2\\Project 2 QuantFund resource\\Project 2 QuantFund\\Data\\\\\"\n",
    "stockclose = \"StockClosePrice\"\n",
    "indexclose = \"IndexClosePrice\"\n",
    "\n",
    "forward_day = 5 # this should depend on your rolling period\n",
    "\n",
    "# calculate the forward returns\n",
    "stock = pd.read_csv(csv_path + stockclose + \".csv\", index_col = 0, parse_dates = True)\n",
    "stockforward = stock.shift(periods = -forward_day, freq = None, axis = 0)\n",
    "# 5Dforward(t) = (close_price(t+5)-close_price(t))/close_price(t)\n",
    "stockforwardreturn = (stockforward - stock) / stock\n",
    "print(stockforwardreturn.head())\n",
    "stockforwardreturn.to_csv(os.path.join(csv_path, '5DForward.csv')) #stock\n",
    "# In the simulation,\n",
    "# you should also calculate indices returns,\n",
    "# and hedge your portfolio with any one of them.\n",
    "index = pd.read_csv(csv_path + indexclose + \".csv\", index_col = 0, parse_dates = True)\n",
    "indexforward = index.shift(periods = -forward_day, freq = None, axis = 0)\n",
    "indexforwardreturn = (indexforward - index) / index\n",
    "print(indexforwardreturn.head())\n",
    "indexforwardreturn.to_csv(os.path.join(csv_path, 'mkt_5DForward.csv')) #mkt\n",
    "\n",
    "\n",
    "factor_folder = \"F:\\Business Intelligence\\project\\project2\\Project 2 QuantFund resource\\Project 2 QuantFund\\Data\\ALL_factors\\\\\" # I am only using several sample factors here. You should try all factors\n",
    "# factor_folder = \"Data/ALL_factors/\"\n",
    "factor_list = set(os.listdir(factor_folder)) - set(['.DS_Store'])\n",
    "factor_list = list(factor_list)\n",
    "print(factor_list)\n",
    "# Read all factor files\n",
    "# Remeber to Z-score the factor values to remove the scale differences\n",
    "dfs = []\n",
    "i = 0\n",
    "for factor in factor_list:\n",
    "    dfs.append(factor)\n",
    "    df = pd.read_csv(factor_folder + factor , index_col = 0, parse_dates = True)\n",
    "    dfs[i] = (df - df.mean() )/ df.std()\n",
    "    i = i + 1\n",
    "print()\n",
    "print(dfs[0].head())"
   ]
  },
  {
   "cell_type": "markdown",
   "metadata": {},
   "source": [
    "Clean Data"
   ]
  },
  {
   "cell_type": "code",
   "execution_count": 3,
   "metadata": {},
   "outputs": [
    {
     "name": "stdout",
     "output_type": "stream",
     "text": [
      "(2557, 3569)\n",
      "(2557, 3569)\n",
      "        date      stock  NonCurrentAssetsRatio  NonOperatingNPTTM   REVS750  \\\n",
      "0 2008-01-02  000001.SZ                    NaN          -0.135527  2.888453   \n",
      "1 2008-01-03  000001.SZ                    NaN          -0.135527  2.797419   \n",
      "2 2008-01-04  000001.SZ                    NaN          -0.135527  2.944403   \n",
      "3 2008-01-07  000001.SZ                    NaN          -0.135527  3.059996   \n",
      "4 2008-01-08  000001.SZ                    NaN          -0.135527  3.235416   \n",
      "\n",
      "      TVMA6   DAVOL20  GainLossVarianceRatio60  InterestCover    PEIndu  ...  \\\n",
      "0 -0.001905 -0.158321                 0.856878            NaN -0.366891  ...   \n",
      "1  0.022230 -0.206822                 0.869264            NaN -0.372034  ...   \n",
      "2  0.032540 -0.255323                 0.610174            NaN -0.364962  ...   \n",
      "3  0.149184 -0.134070                 0.616198            NaN -0.356511  ...   \n",
      "4  0.268527  0.059935                 0.521690            NaN -0.339611  ...   \n",
      "\n",
      "   PEHist120     EMA26  MktValue   PCFIndu  InformationRatio60      GREV  \\\n",
      "0  -0.056532  0.986489 -0.431592 -0.286648            0.111823  1.047256   \n",
      "1  -0.087318  0.980896 -0.458640 -0.290260           -0.242802  0.996887   \n",
      "2  -0.039740  0.984013 -0.414848 -0.294426            0.023636  0.946518   \n",
      "3  -0.002984  0.993490 -0.380502 -0.300815            0.232845  0.896149   \n",
      "4   0.053177  1.012231 -0.328124 -0.300815            0.391395  0.845781   \n",
      "\n",
      "    Price1Y  GainVariance20     ATR14    return  \n",
      "0  1.098479        0.874219  0.671595  0.082412  \n",
      "1  0.999414        0.874219  0.820614  0.123159  \n",
      "2  1.141059        0.878537  0.769962  0.148814  \n",
      "3  1.250117        0.859824  0.841168  0.109267  \n",
      "4  1.418266        0.325796  0.941003  0.040604  \n",
      "\n",
      "[5 rows x 47 columns]\n",
      "(9125933, 47)\n",
      "(1850785, 47)\n"
     ]
    }
   ],
   "source": [
    "# clean return data\n",
    "rt = stockforwardreturn.iloc[242:2799,:]\n",
    "a = dfs[0].columns.tolist()\n",
    "b = rt.columns.tolist()\n",
    "more = list(set(b) - set(a))\n",
    "rt = rt.drop(more,axis=1)\n",
    "print(rt.shape)\n",
    "print(dfs[0].shape)\n",
    "for i in range(len(dfs)):\n",
    "    dfs[i] = dfs[i].reset_index()\n",
    "    dfs[i] = pd.melt(frame=dfs[i],id_vars='date',value_vars=dfs[i].columns.tolist()[1:],var_name='stock',value_name=factor_list[i].rstrip('.csv'))\n",
    "melted = pd.DataFrame()\n",
    "melted = pd.concat([melted,dfs[0]],axis=1)\n",
    "for i in range(1,len(dfs)):\n",
    "    melted = pd.merge(left=melted,right=dfs[i],on=['date','stock'])\n",
    "rt = rt.reset_index()\n",
    "rt = pd.melt(frame=rt ,id_vars='date', value_vars=rt.columns.tolist()[1:],var_name='stock',value_name='return')\n",
    "melted = pd.merge(left=melted,right=rt,on=['date','stock'])\n",
    "print(melted.head())\n",
    "print(melted.shape)\n",
    "na = melted.dropna()\n",
    "\n",
    "\n",
    "print(na.shape)\n",
    "from sklearn.model_selection import train_test_split\n",
    "X=na.filter(['AD','DAVOL20','EMA26','RealizedVolatility','TVMA6','VEMA10'])\n",
    "y=na.filter(['return'])\n",
    "y=(y-y.mean())/y.std()\n",
    "X_train,X_test,y_train,y_test=train_test_split(X,y,test_size=0.25,random_state=233)\n",
    "#print(X_train.head())\n",
    "#print(y_train.head())"
   ]
  },
  {
   "cell_type": "markdown",
   "metadata": {},
   "source": [
    "Random Forest"
   ]
  },
  {
   "cell_type": "code",
   "execution_count": 4,
   "metadata": {
    "scrolled": true
   },
   "outputs": [
    {
     "name": "stdout",
     "output_type": "stream",
     "text": [
      "[[-1.17819939e+00 -6.62310306e-01 -3.04437174e-01 -7.48071344e-01\n",
      "  -6.54218137e-02  1.79405788e-01]\n",
      " [-5.54252892e-01  1.37941921e+00  1.05417440e+00 -1.53821210e-02\n",
      "   1.15240253e+00  7.07506293e-01]\n",
      " [ 3.75281390e-01 -2.14661329e-02  6.44410782e-01 -4.56302207e-02\n",
      "   5.71897526e-01  5.61659910e-01]\n",
      " ...\n",
      " [-1.08247149e-01 -1.84753061e+00 -1.20597788e-03 -2.36195046e-01\n",
      "  -4.87439927e-01 -4.41916134e-01]\n",
      " [-4.81421403e-01  3.43439918e-01 -5.43894994e-01 -7.85924694e-01\n",
      "  -5.22167394e-01 -5.20519119e-01]\n",
      " [-3.41651205e-01 -2.04388065e+00  1.49510035e+00 -3.66942853e-01\n",
      "  -1.94446485e-01 -5.68723848e-01]]\n",
      "[[-1.17819939e+00 -6.62310306e-01 -3.04437174e-01 -7.48071344e-01\n",
      "  -6.54218137e-02  1.79405788e-01]\n",
      " [-5.54252892e-01  1.37941921e+00  1.05417440e+00 -1.53821210e-02\n",
      "   1.15240253e+00  7.07506293e-01]\n",
      " [ 3.75281390e-01 -2.14661329e-02  6.44410782e-01 -4.56302207e-02\n",
      "   5.71897526e-01  5.61659910e-01]\n",
      " ...\n",
      " [-1.08247149e-01 -1.84753061e+00 -1.20597788e-03 -2.36195046e-01\n",
      "  -4.87439927e-01 -4.41916134e-01]\n",
      " [-4.81421403e-01  3.43439918e-01 -5.43894994e-01 -7.85924694e-01\n",
      "  -5.22167394e-01 -5.20519119e-01]\n",
      " [-3.41651205e-01 -2.04388065e+00  1.49510035e+00 -3.66942853e-01\n",
      "  -1.94446485e-01 -5.68723848e-01]]\n",
      "[-0.37607517 -1.25825532 -1.76310559 ...  0.27438286 -0.34550381\n",
      "  0.96142646]\n",
      "[-0.92104141 -0.82516858  0.1323706  ...  0.87309792  0.54030189\n",
      " -0.13428199]\n",
      "This is MSE\n",
      "0.2954420483131977\n",
      "                0\n",
      "0       -0.138087\n",
      "1        1.506247\n",
      "2        0.959807\n",
      "3       -0.043389\n",
      "4        1.138690\n",
      "...           ...\n",
      "1850780 -0.491548\n",
      "1850781 -0.454786\n",
      "1850782 -0.314502\n",
      "1850783 -0.278384\n",
      "1850784 -0.328886\n",
      "\n",
      "[1850785 rows x 1 columns]\n"
     ]
    }
   ],
   "source": [
    "from sklearn import datasets,ensemble\n",
    "import matplotlib.pyplot as plt\n",
    "X_train=np.array(X_train)\n",
    "X_train=X_train\n",
    "print(X_train)\n",
    "X_test=np.array(X_test)\n",
    "X_test=X_train\n",
    "print(X_test)\n",
    "y_train=np.array(y_train)\n",
    "y_train=y_train\n",
    "y_test=np.array(y_test)\n",
    "y_test=y_test\n",
    "y_train=y_train.ravel()\n",
    "y_test=y_test.ravel()\n",
    "print(y_train)\n",
    "print(y_test)\n",
    "def test_RandomForestRegressor(*data):\n",
    "    X_train,X_test,y_train,y_test=data\n",
    "    regr=ensemble.RandomForestRegressor()\n",
    "    regr.fit(X_train,y_train)\n",
    "    ridge_score2 = mean_squared_error(y_test, regr.predict(X_test))\n",
    "    return ridge_score2\n",
    "#\n",
    "#test_RandomForestRegressor(X_train,X_test,y_train,y_test)\n",
    "\n",
    "#Save the predicted result\n",
    "regr=ensemble.RandomForestRegressor()\n",
    "regr.fit(X_train,y_train)\n",
    "ridge_score=mean_squared_error(y,regr.predict(X))\n",
    "print('This is MSE')\n",
    "print(ridge_score)\n",
    "result=regr.predict(X)\n",
    "result=pd.DataFrame(result)\n",
    "print(result)"
   ]
  },
  {
   "cell_type": "markdown",
   "metadata": {},
   "source": [
    "Save the result"
   ]
  },
  {
   "cell_type": "code",
   "execution_count": null,
   "metadata": {},
   "outputs": [],
   "source": [
    "#save_result_path =r\"F:\\Business Intelligence\\project\\project2\\Project 2 QuantFund resource\\Project 2 QuantFund\\Data\\New_factors\\\\\"\n",
    "#result.to_csv(os.path.join(save_result_path, 'result.csv'))\n",
    "na=na.filter(['date','stock'])\n",
    "melted=melted.filter(['date','stock'])\n",
    "na.insert(loc=0,column='predictedy',value=result.values)\n",
    "for_bt=pd.merge(melted,na,how='left',on=['date','stock'])\n",
    "for_bt=for_bt[['date','stock','predictedy']]\n",
    "#Transform to standard format\n",
    "td_bt=pd.Series(list(for_bt['predictedy']),index=[for_bt['date'],for_bt['stock']])\n",
    "td_bt=td_bt.unstack()\n",
    "save_result_path =r\"F:\\Business Intelligence\\project\\project2\\Project 2 QuantFund resource\\Project 2 QuantFund\\Data\\New_factors\\\\\"\n",
    "print(td_bt.shape)\n",
    "td_bt.to_csv(os.path.join(save_result_path, 'RF.csv'))"
   ]
  },
  {
   "cell_type": "markdown",
   "metadata": {},
   "source": [
    "Cross Validation"
   ]
  },
  {
   "cell_type": "code",
   "execution_count": null,
   "metadata": {},
   "outputs": [],
   "source": [
    "\n",
    "#Cross Validation(Due to the large size of data, please use a server to run this code)\n",
    "from sklearn.model_selection import KFold\n",
    "kf=KFold(n_splits=10)\n",
    "kfold_baseset=na.filter(['AD','DAVOL20','EMA26','RealizedVolatility','TVMA6','VEMA10','return'])\n",
    "kfold_baseset=np.array(kfold_baseset)\n",
    "X=np.array(X)\n",
    "y=np.array(y)\n",
    "TMSE=0\n",
    "for train_idex, test_index in kf.split(kfold_baseset):\n",
    "    X_train,y_train=X[train_idex],y[train_idex]\n",
    "    X_test,y_test=X[test_index],y[test_index]\n",
    "    y_train=y_train.ravel()\n",
    "    y_test=y_test.ravel()\n",
    "    MSE=test_RandomForestRegressor(X_train,X_test,y_train,y_test)\n",
    "    TMSE += MSE\n",
    "print(TMSE/10)\n"
   ]
  },
  {
   "cell_type": "code",
   "execution_count": 5,
   "metadata": {},
   "outputs": [
    {
     "data": {
      "image/png": "[encoded data removed]",
      "text/plain": [
       "<Figure size 432x288 with 1 Axes>"
      ]
     },
     "metadata": {
      "needs_background": "light"
     },
     "output_type": "display_data"
    },
    {
     "data": {
      "image/png": "[encoded data removed]",
      "text/plain": [
       "<Figure size 432x288 with 1 Axes>"
      ]
     },
     "metadata": {
      "needs_background": "light"
     },
     "output_type": "display_data"
    },
    {
     "data": {
      "image/png": "[encoded data removed]",
      "text/plain": [
       "<Figure size 432x288 with 1 Axes>"
      ]
     },
     "metadata": {
      "needs_background": "light"
     },
     "output_type": "display_data"
    },
    {
     "data": {
      "image/png": "[encoded data removed]",
      "text/plain": [
       "<Figure size 432x288 with 1 Axes>"
      ]
     },
     "metadata": {
      "needs_background": "light"
     },
     "output_type": "display_data"
    },
    {
     "data": {
      "image/png": "[encoded data removed]",
      "text/plain": [
       "<Figure size 432x288 with 1 Axes>"
      ]
     },
     "metadata": {
      "needs_background": "light"
     },
     "output_type": "display_data"
    }
   ],
   "source": [
    "#%run -i 'helper.py'\n",
    "\n",
    "#%run -i 'backtestlite.py'\n",
    "import backtestlite as bt\n",
    "import helper\n",
    "#set the working directory and some initial parameters. \n",
    "\n",
    "working_directory = 'Data/'\n",
    "#Directory to import the factor you built\n",
    "factor_path_all = 'Data/ALL_factors/'\n",
    "\n",
    "# Define the factor direction, (Descending or Ascending).\n",
    "# The direction could be observed by the correlation between the factor your built and the stock returns. \n",
    "# \"Descending\" if higher factor score, lower return\n",
    "# \"Ascending\" if higher factor score, higher return\n",
    "direction = \"Ascending\"\n",
    "###############################################################\n",
    "\n",
    "# Parameters of backtest.\n",
    "start = '20110101' # Time horizon, can be vacation, progrmme will extract the maximum subset.\n",
    "end = '20180601'\n",
    "quantile = 5\n",
    "cycle = 5 # Adjustment Cycle (trading frequency), delay for holidays. \n",
    "win = 48 # 48 weeks in a year\n",
    "year = 2011 # Beginning year of result display (graphs).\n",
    "\n",
    "#Import stock 5days forward return.\n",
    "fwdrtn = pd.read_csv(os.path.join(working_directory, \"5DForward.csv\"), index_col = 0, parse_dates = True).loc[start:end][::cycle]\n",
    "#Import market 5days forward return.\n",
    "mkt_index = pd.read_csv(os.path.join(working_directory, \"mkt_5DForward.csv\"), index_col = 0, parse_dates = True).loc[str(start):str(end),\"SH000905\"][::cycle]\n",
    "\n",
    "status = pd.DataFrame(1, index = fwdrtn.index, columns = fwdrtn.columns)\n",
    "statuslimit = pd.DataFrame(1, index = fwdrtn.index, columns = fwdrtn.columns)\n",
    "\n",
    "# Revise the factor name (name of .csv file)\n",
    "factor = \"RF\"\n",
    "\n",
    "Type = \"LS\" # this stand for long-short strategy. \n",
    "\n",
    "\n",
    "def singlefactor(factor,factor_path_all,Type,direction,fwdrtn,mkt_index,cycle, start, end, quantile,win,year, statuslimit):\n",
    "    factor_path = os.path.join(factor_path_all, factor + '.csv')\n",
    "\n",
    "    Type1 = \"LS\"\n",
    "    B = bt.Backtestlite(factor_path, direction, fwdrtn, mkt_index, factor_path_all, cycle, start, end, quantile, statuslimit)\n",
    "    B.run(Type1)\n",
    "\n",
    "    # Drawing\n",
    "    pic = helper.DrawPicture(factor,direction, B.data,  B.fwdrtn, B.data.index , mkt_index,  B.rtn_data, B.coverage, B.turnover, factor_path_all, Type1)    \n",
    "    pic.main(win,year,B.rtn_data.columns)\n",
    "    \n",
    "# Calculate performances and do the plot\n",
    "singlefactor(factor,factor_path_all,Type, direction,fwdrtn,mkt_index,cycle, start, end, quantile,win,year, statuslimit)"
   ]
  }
 ],
 "metadata": {
  "kernelspec": {
   "display_name": "Python 3",
   "language": "python",
   "name": "python3"
  },
  "language_info": {
   "codemirror_mode": {
    "name": "ipython",
    "version": 3
   },
   "file_extension": ".py",
   "mimetype": "text/x-python",
   "name": "python",
   "nbconvert_exporter": "python",
   "pygments_lexer": "ipython3",
   "version": "3.7.4"
  }
 },
 "nbformat": 4,
 "nbformat_minor": 2
}
