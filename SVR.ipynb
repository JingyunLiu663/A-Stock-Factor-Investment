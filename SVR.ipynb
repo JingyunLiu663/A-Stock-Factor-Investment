{
 "cells": [
  {
   "cell_type": "code",
   "execution_count": 1,
   "metadata": {},
   "outputs": [],
   "source": [
    "import pandas as pd\n",
    "import os\n",
    "from scipy import stats\n",
    "import numpy as np\n",
    "from os import listdir\n",
    "import string\n",
    "\n",
    "#Ignore harmless warnings\n",
    "import warnings\n",
    "warnings.filterwarnings(\"ignore\")"
   ]
  },
  {
   "cell_type": "markdown",
   "metadata": {},
   "source": [
    "### Preparation: Calculate the forward returns for stocks and market indices"
   ]
  },
  {
   "cell_type": "code",
   "execution_count": 2,
   "metadata": {
    "scrolled": true
   },
   "outputs": [
    {
     "name": "stdout",
     "output_type": "stream",
     "text": [
      "            000001.SZ  000002.SZ  000004.SZ  000005.SZ  000006.SZ  000007.SZ  \\\n",
      "date                                                                           \n",
      "2007-01-04   0.047482   0.061368   0.088638   0.186231   0.065688   0.122858   \n",
      "2007-01-05   0.188363   0.084177   0.094316   0.107551  -0.016348   0.037043   \n",
      "2007-01-08   0.219149   0.158273   0.103618   0.111985   0.006898   0.031495   \n",
      "2007-01-09   0.233333   0.230769   0.096691   0.135329   0.075422   0.031128   \n",
      "2007-01-10   0.208806   0.006994   0.083142   0.096759  -0.043272   0.007674   \n",
      "\n",
      "            000008.SZ  000009.SZ  000010.SZ  000011.SZ  ...  603987.SH  \\\n",
      "date                                                    ...              \n",
      "2007-01-04   0.250000   0.125307        0.0   0.128390  ...        NaN   \n",
      "2007-01-05   0.122891   0.073622        0.0   0.079454  ...        NaN   \n",
      "2007-01-08   0.140277   0.086213        0.0   0.092567  ...        NaN   \n",
      "2007-01-09   0.130120   0.044423        0.0   0.123708  ...        NaN   \n",
      "2007-01-10   0.000000  -0.026172        0.0   0.017069  ...        NaN   \n",
      "\n",
      "            603988.SH  603989.SH  603990.SH  603991.SH  603993.SH  603996.SH  \\\n",
      "date                                                                           \n",
      "2007-01-04        NaN        NaN        NaN        NaN        NaN        NaN   \n",
      "2007-01-05        NaN        NaN        NaN        NaN        NaN        NaN   \n",
      "2007-01-08        NaN        NaN        NaN        NaN        NaN        NaN   \n",
      "2007-01-09        NaN        NaN        NaN        NaN        NaN        NaN   \n",
      "2007-01-10        NaN        NaN        NaN        NaN        NaN        NaN   \n",
      "\n",
      "            603997.SH  603998.SH  603999.SH  \n",
      "date                                         \n",
      "2007-01-04        NaN        NaN        NaN  \n",
      "2007-01-05        NaN        NaN        NaN  \n",
      "2007-01-08        NaN        NaN        NaN  \n",
      "2007-01-09        NaN        NaN        NaN  \n",
      "2007-01-10        NaN        NaN        NaN  \n",
      "\n",
      "[5 rows x 3584 columns]\n",
      "            SH000001  SH000300  SH000905  SH000906\n",
      "2007-04-01  0.049606  0.079600  0.132588  0.091227\n",
      "2007-05-01  0.033619  0.048662  0.062853  0.051875\n",
      "2007-08-01  0.057388  0.073083  0.072668  0.073045\n",
      "2007-09-01  0.030958  0.069897  0.086235  0.073611\n",
      "2007-10-01 -0.004019  0.023475  0.048856  0.029213\n"
     ]
    }
   ],
   "source": [
    "csv_path = \"Data/\"\n",
    "stockclose = \"StockClosePrice\"\n",
    "indexclose = \"IndexClosePrice\"\n",
    "\n",
    "forward_day = 5 # this should depend on the rolling period\n",
    "\n",
    "# calculate the forward returns\n",
    "stock = pd.read_csv(csv_path + stockclose + \".csv\", index_col = 0, parse_dates = True)\n",
    "stockforward = stock.shift(periods = -forward_day, freq = None, axis = 0)\n",
    "# 5Dforward(t) = (close_price(t+5)-close_price(t))/close_price(t)\n",
    "stockforwardreturn = (stockforward - stock) / stock\n",
    "print(stockforwardreturn.head())\n",
    "stockforwardreturn.to_csv(os.path.join(csv_path, '5DForward.csv')) #stock\n",
    "\n",
    "index = pd.read_csv(csv_path + indexclose + \".csv\", index_col = 0, parse_dates = True)\n",
    "indexforward = index.shift(periods = -forward_day, freq = None, axis = 0)\n",
    "indexforwardreturn = (indexforward - index) / index\n",
    "print(indexforwardreturn.head())\n",
    "indexforwardreturn.to_csv(os.path.join(csv_path, 'mkt_5DForward.csv')) #mkt"
   ]
  },
  {
   "cell_type": "markdown",
   "metadata": {},
   "source": [
    "## Read the factors"
   ]
  },
  {
   "cell_type": "code",
   "execution_count": 3,
   "metadata": {},
   "outputs": [
    {
     "name": "stdout",
     "output_type": "stream",
     "text": [
      "            000001.SZ  000002.SZ  000004.SZ  000005.SZ  000006.SZ  000007.SZ  \\\n",
      "date                                                                           \n",
      "2008-01-02        NaN        NaN        NaN        NaN        NaN        NaN   \n",
      "2008-01-03        NaN        NaN        NaN        NaN        NaN        NaN   \n",
      "2008-01-04        NaN        NaN        NaN        NaN        NaN        NaN   \n",
      "2008-01-07        NaN        NaN        NaN        NaN        NaN        NaN   \n",
      "2008-01-08        NaN        NaN        NaN        NaN        NaN        NaN   \n",
      "\n",
      "            000008.SZ  000009.SZ  000010.SZ  000011.SZ  ...  603987.SH  \\\n",
      "date                                                    ...              \n",
      "2008-01-02        NaN        NaN        NaN        NaN  ...        NaN   \n",
      "2008-01-03        NaN        NaN        NaN        NaN  ...        NaN   \n",
      "2008-01-04        NaN        NaN        NaN        NaN  ...        NaN   \n",
      "2008-01-07        NaN        NaN        NaN        NaN  ...        NaN   \n",
      "2008-01-08        NaN        NaN        NaN        NaN  ...        NaN   \n",
      "\n",
      "            603988.SH  603989.SH  603990.SH  603991.SH  603993.SH  603996.SH  \\\n",
      "date                                                                           \n",
      "2008-01-02        NaN        NaN        NaN        NaN        NaN        NaN   \n",
      "2008-01-03        NaN        NaN        NaN        NaN        NaN        NaN   \n",
      "2008-01-04        NaN        NaN        NaN        NaN        NaN        NaN   \n",
      "2008-01-07        NaN        NaN        NaN        NaN        NaN        NaN   \n",
      "2008-01-08        NaN        NaN        NaN        NaN        NaN        NaN   \n",
      "\n",
      "            603997.SH  603998.SH  603999.SH  \n",
      "date                                         \n",
      "2008-01-02        NaN        NaN        NaN  \n",
      "2008-01-03        NaN        NaN        NaN  \n",
      "2008-01-04        NaN        NaN        NaN  \n",
      "2008-01-07        NaN        NaN        NaN  \n",
      "2008-01-08        NaN        NaN        NaN  \n",
      "\n",
      "[5 rows x 3569 columns]\n"
     ]
    }
   ],
   "source": [
    "factor_folder = \"Data/ALL_factors/\"\n",
    "factor_list = set(os.listdir(factor_folder)) - set(['.DS_Store'])\n",
    "factor_list = list(factor_list)\n",
    "\n",
    "# Read all factor files\n",
    "# Z-score the factor values to remove the scale differences\n",
    "dfs = []\n",
    "i = 0\n",
    "for factor in factor_list:\n",
    "    dfs.append(factor)\n",
    "    df = pd.read_csv(factor_folder + factor , index_col = 0, parse_dates = True)\n",
    "    dfs[i] = (df - df.mean()) / df.std() \n",
    "    i = i + 1\n",
    "\n",
    "print(dfs[0].head())"
   ]
  },
  {
   "cell_type": "markdown",
   "metadata": {},
   "source": [
    "### Data Transformation"
   ]
  },
  {
   "cell_type": "markdown",
   "metadata": {},
   "source": [
    "### Clean Return Data"
   ]
  },
  {
   "cell_type": "code",
   "execution_count": 4,
   "metadata": {},
   "outputs": [],
   "source": [
    "# clean return data\n",
    "import datetime\n",
    "# rows cleaning\n",
    "st = datetime.datetime(2008, 1, 2, 0, 0)\n",
    "en = datetime.datetime(2018, 7, 5, 0, 0)\n",
    "rt =stockforwardreturn[st:en]\n",
    "\n",
    "a = dfs[0].columns.tolist()\n",
    "b = rt.columns.tolist()\n",
    "more = list(set(b) - set(a))\n",
    "rt = rt.drop(more,axis=1)"
   ]
  },
  {
   "cell_type": "code",
   "execution_count": 5,
   "metadata": {},
   "outputs": [
    {
     "name": "stdout",
     "output_type": "stream",
     "text": [
      "(2557, 3569)\n",
      "(2557, 3569)\n"
     ]
    }
   ],
   "source": [
    "print(rt.shape)\n",
    "print(dfs[0].shape)"
   ]
  },
  {
   "cell_type": "markdown",
   "metadata": {},
   "source": [
    "### Melt DataFrames as One"
   ]
  },
  {
   "cell_type": "code",
   "execution_count": 6,
   "metadata": {},
   "outputs": [],
   "source": [
    "for i in range(len(dfs)):\n",
    "    dfs[i] = dfs[i].reset_index()\n",
    "    dfs[i] = pd.melt(frame=dfs[i],id_vars='date',value_vars=dfs[i].columns.tolist()[1:],var_name='stock',value_name=factor_list[i].rstrip('.csv'))"
   ]
  },
  {
   "cell_type": "code",
   "execution_count": 7,
   "metadata": {},
   "outputs": [],
   "source": [
    "melted = pd.DataFrame()\n",
    "melted = pd.concat([melted,dfs[0]],axis=1)"
   ]
  },
  {
   "cell_type": "code",
   "execution_count": 8,
   "metadata": {},
   "outputs": [],
   "source": [
    "for i in range(1,len(dfs)):\n",
    "    melted = pd.merge(left=melted,right=dfs[i],on=['date','stock'])"
   ]
  },
  {
   "cell_type": "code",
   "execution_count": 9,
   "metadata": {},
   "outputs": [],
   "source": [
    "rt = rt.reset_index()\n",
    "rt = pd.melt(frame=rt ,id_vars='date', value_vars=rt.columns.tolist()[1:],var_name='stock',value_name='return')"
   ]
  },
  {
   "cell_type": "code",
   "execution_count": 10,
   "metadata": {},
   "outputs": [],
   "source": [
    "melted = pd.merge(left=melted,right=rt,on=['date','stock'])"
   ]
  },
  {
   "cell_type": "code",
   "execution_count": 11,
   "metadata": {},
   "outputs": [
    {
     "data": {
      "text/html": [
       "<div>\n",
       "<style scoped>\n",
       "    .dataframe tbody tr th:only-of-type {\n",
       "        vertical-align: middle;\n",
       "    }\n",
       "\n",
       "    .dataframe tbody tr th {\n",
       "        vertical-align: top;\n",
       "    }\n",
       "\n",
       "    .dataframe thead th {\n",
       "        text-align: right;\n",
       "    }\n",
       "</style>\n",
       "<table border=\"1\" class=\"dataframe\">\n",
       "  <thead>\n",
       "    <tr style=\"text-align: right;\">\n",
       "      <th></th>\n",
       "      <th>date</th>\n",
       "      <th>stock</th>\n",
       "      <th>RealizedVolatility</th>\n",
       "      <th>AD</th>\n",
       "      <th>VEMA10</th>\n",
       "      <th>EMA26</th>\n",
       "      <th>TVMA6</th>\n",
       "      <th>DAVOL20</th>\n",
       "      <th>return</th>\n",
       "    </tr>\n",
       "  </thead>\n",
       "  <tbody>\n",
       "    <tr>\n",
       "      <th>0</th>\n",
       "      <td>2008-01-02</td>\n",
       "      <td>000001.SZ</td>\n",
       "      <td>NaN</td>\n",
       "      <td>-0.992037</td>\n",
       "      <td>-0.717872</td>\n",
       "      <td>0.986489</td>\n",
       "      <td>-0.001905</td>\n",
       "      <td>-0.158321</td>\n",
       "      <td>0.082412</td>\n",
       "    </tr>\n",
       "    <tr>\n",
       "      <th>1</th>\n",
       "      <td>2008-01-03</td>\n",
       "      <td>000001.SZ</td>\n",
       "      <td>NaN</td>\n",
       "      <td>-0.991141</td>\n",
       "      <td>-0.703739</td>\n",
       "      <td>0.980896</td>\n",
       "      <td>0.022230</td>\n",
       "      <td>-0.206822</td>\n",
       "      <td>0.123159</td>\n",
       "    </tr>\n",
       "    <tr>\n",
       "      <th>2</th>\n",
       "      <td>2008-01-04</td>\n",
       "      <td>000001.SZ</td>\n",
       "      <td>NaN</td>\n",
       "      <td>-0.986487</td>\n",
       "      <td>-0.716201</td>\n",
       "      <td>0.984013</td>\n",
       "      <td>0.032540</td>\n",
       "      <td>-0.255323</td>\n",
       "      <td>0.148814</td>\n",
       "    </tr>\n",
       "    <tr>\n",
       "      <th>3</th>\n",
       "      <td>2008-01-07</td>\n",
       "      <td>000001.SZ</td>\n",
       "      <td>NaN</td>\n",
       "      <td>-0.981773</td>\n",
       "      <td>-0.690041</td>\n",
       "      <td>0.993490</td>\n",
       "      <td>0.149184</td>\n",
       "      <td>-0.134070</td>\n",
       "      <td>0.109267</td>\n",
       "    </tr>\n",
       "    <tr>\n",
       "      <th>4</th>\n",
       "      <td>2008-01-08</td>\n",
       "      <td>000001.SZ</td>\n",
       "      <td>NaN</td>\n",
       "      <td>-0.981442</td>\n",
       "      <td>-0.610939</td>\n",
       "      <td>1.012231</td>\n",
       "      <td>0.268527</td>\n",
       "      <td>0.059935</td>\n",
       "      <td>0.040604</td>\n",
       "    </tr>\n",
       "  </tbody>\n",
       "</table>\n",
       "</div>"
      ],
      "text/plain": [
       "        date      stock  RealizedVolatility        AD    VEMA10     EMA26  \\\n",
       "0 2008-01-02  000001.SZ                 NaN -0.992037 -0.717872  0.986489   \n",
       "1 2008-01-03  000001.SZ                 NaN -0.991141 -0.703739  0.980896   \n",
       "2 2008-01-04  000001.SZ                 NaN -0.986487 -0.716201  0.984013   \n",
       "3 2008-01-07  000001.SZ                 NaN -0.981773 -0.690041  0.993490   \n",
       "4 2008-01-08  000001.SZ                 NaN -0.981442 -0.610939  1.012231   \n",
       "\n",
       "      TVMA6   DAVOL20    return  \n",
       "0 -0.001905 -0.158321  0.082412  \n",
       "1  0.022230 -0.206822  0.123159  \n",
       "2  0.032540 -0.255323  0.148814  \n",
       "3  0.149184 -0.134070  0.109267  \n",
       "4  0.268527  0.059935  0.040604  "
      ]
     },
     "execution_count": 11,
     "metadata": {},
     "output_type": "execute_result"
    }
   ],
   "source": [
    "melted.head()"
   ]
  },
  {
   "cell_type": "code",
   "execution_count": 12,
   "metadata": {},
   "outputs": [
    {
     "data": {
      "text/plain": [
       "(9125933, 9)"
      ]
     },
     "execution_count": 12,
     "metadata": {},
     "output_type": "execute_result"
    }
   ],
   "source": [
    "melted.shape"
   ]
  },
  {
   "cell_type": "code",
   "execution_count": 13,
   "metadata": {},
   "outputs": [],
   "source": [
    "na = melted.dropna()"
   ]
  },
  {
   "cell_type": "code",
   "execution_count": 14,
   "metadata": {},
   "outputs": [],
   "source": [
    "na.shape\n",
    "from sklearn import preprocessing\n",
    "na['return'] = preprocessing.scale(na['return'])\n",
    "\n",
    "#na.to_csv(os.path.join(csv_path, 'na.csv'))\n",
    "#na = pd.read_csv( \"Data/na.csv\", index_col = 0, parse_dates = True)"
   ]
  },
  {
   "cell_type": "markdown",
   "metadata": {},
   "source": [
    "### Train-Test Split"
   ]
  },
  {
   "cell_type": "code",
   "execution_count": 15,
   "metadata": {},
   "outputs": [],
   "source": [
    "from sklearn.model_selection import train_test_split"
   ]
  },
  {
   "cell_type": "code",
   "execution_count": 16,
   "metadata": {},
   "outputs": [],
   "source": [
    "X=na.drop(['return','date','stock'],axis=1)\n",
    "y=na.filter(['return'])"
   ]
  },
  {
   "cell_type": "code",
   "execution_count": 17,
   "metadata": {},
   "outputs": [],
   "source": [
    "X_train,X_test,y_train,y_test=train_test_split(X,y,test_size=0.25,random_state=233)"
   ]
  },
  {
   "cell_type": "code",
   "execution_count": 18,
   "metadata": {},
   "outputs": [
    {
     "data": {
      "text/html": [
       "<div>\n",
       "<style scoped>\n",
       "    .dataframe tbody tr th:only-of-type {\n",
       "        vertical-align: middle;\n",
       "    }\n",
       "\n",
       "    .dataframe tbody tr th {\n",
       "        vertical-align: top;\n",
       "    }\n",
       "\n",
       "    .dataframe thead th {\n",
       "        text-align: right;\n",
       "    }\n",
       "</style>\n",
       "<table border=\"1\" class=\"dataframe\">\n",
       "  <thead>\n",
       "    <tr style=\"text-align: right;\">\n",
       "      <th></th>\n",
       "      <th>RealizedVolatility</th>\n",
       "      <th>AD</th>\n",
       "      <th>VEMA10</th>\n",
       "      <th>EMA26</th>\n",
       "      <th>TVMA6</th>\n",
       "      <th>DAVOL20</th>\n",
       "    </tr>\n",
       "  </thead>\n",
       "  <tbody>\n",
       "    <tr>\n",
       "      <th>6283586</th>\n",
       "      <td>-0.071019</td>\n",
       "      <td>-0.489395</td>\n",
       "      <td>-0.736380</td>\n",
       "      <td>-0.825846</td>\n",
       "      <td>-0.634460</td>\n",
       "      <td>-0.755335</td>\n",
       "    </tr>\n",
       "    <tr>\n",
       "      <th>7352904</th>\n",
       "      <td>-0.517177</td>\n",
       "      <td>-0.207811</td>\n",
       "      <td>-0.604206</td>\n",
       "      <td>-0.947358</td>\n",
       "      <td>-0.454428</td>\n",
       "      <td>-0.165355</td>\n",
       "    </tr>\n",
       "    <tr>\n",
       "      <th>5323557</th>\n",
       "      <td>-0.132727</td>\n",
       "      <td>-0.425239</td>\n",
       "      <td>-0.457278</td>\n",
       "      <td>0.028461</td>\n",
       "      <td>-0.475525</td>\n",
       "      <td>-0.727243</td>\n",
       "    </tr>\n",
       "    <tr>\n",
       "      <th>5471085</th>\n",
       "      <td>0.161054</td>\n",
       "      <td>0.037255</td>\n",
       "      <td>0.961062</td>\n",
       "      <td>-0.446625</td>\n",
       "      <td>0.113911</td>\n",
       "      <td>1.052010</td>\n",
       "    </tr>\n",
       "    <tr>\n",
       "      <th>2068517</th>\n",
       "      <td>-0.485113</td>\n",
       "      <td>-1.051109</td>\n",
       "      <td>-0.341651</td>\n",
       "      <td>-0.001431</td>\n",
       "      <td>-0.470100</td>\n",
       "      <td>-0.126192</td>\n",
       "    </tr>\n",
       "  </tbody>\n",
       "</table>\n",
       "</div>"
      ],
      "text/plain": [
       "         RealizedVolatility        AD    VEMA10     EMA26     TVMA6   DAVOL20\n",
       "6283586           -0.071019 -0.489395 -0.736380 -0.825846 -0.634460 -0.755335\n",
       "7352904           -0.517177 -0.207811 -0.604206 -0.947358 -0.454428 -0.165355\n",
       "5323557           -0.132727 -0.425239 -0.457278  0.028461 -0.475525 -0.727243\n",
       "5471085            0.161054  0.037255  0.961062 -0.446625  0.113911  1.052010\n",
       "2068517           -0.485113 -1.051109 -0.341651 -0.001431 -0.470100 -0.126192"
      ]
     },
     "execution_count": 18,
     "metadata": {},
     "output_type": "execute_result"
    }
   ],
   "source": [
    "X_train.head()"
   ]
  },
  {
   "cell_type": "code",
   "execution_count": 19,
   "metadata": {},
   "outputs": [
    {
     "data": {
      "text/html": [
       "<div>\n",
       "<style scoped>\n",
       "    .dataframe tbody tr th:only-of-type {\n",
       "        vertical-align: middle;\n",
       "    }\n",
       "\n",
       "    .dataframe tbody tr th {\n",
       "        vertical-align: top;\n",
       "    }\n",
       "\n",
       "    .dataframe thead th {\n",
       "        text-align: right;\n",
       "    }\n",
       "</style>\n",
       "<table border=\"1\" class=\"dataframe\">\n",
       "  <thead>\n",
       "    <tr style=\"text-align: right;\">\n",
       "      <th></th>\n",
       "      <th>return</th>\n",
       "    </tr>\n",
       "  </thead>\n",
       "  <tbody>\n",
       "    <tr>\n",
       "      <th>6283586</th>\n",
       "      <td>-0.295989</td>\n",
       "    </tr>\n",
       "    <tr>\n",
       "      <th>7352904</th>\n",
       "      <td>-0.849503</td>\n",
       "    </tr>\n",
       "    <tr>\n",
       "      <th>5323557</th>\n",
       "      <td>0.346721</td>\n",
       "    </tr>\n",
       "    <tr>\n",
       "      <th>5471085</th>\n",
       "      <td>2.367912</td>\n",
       "    </tr>\n",
       "    <tr>\n",
       "      <th>2068517</th>\n",
       "      <td>0.107217</td>\n",
       "    </tr>\n",
       "  </tbody>\n",
       "</table>\n",
       "</div>"
      ],
      "text/plain": [
       "           return\n",
       "6283586 -0.295989\n",
       "7352904 -0.849503\n",
       "5323557  0.346721\n",
       "5471085  2.367912\n",
       "2068517  0.107217"
      ]
     },
     "execution_count": 19,
     "metadata": {},
     "output_type": "execute_result"
    }
   ],
   "source": [
    "y_train.head()"
   ]
  },
  {
   "cell_type": "markdown",
   "metadata": {},
   "source": [
    "### Support Vector Regression"
   ]
  },
  {
   "cell_type": "code",
   "execution_count": 20,
   "metadata": {},
   "outputs": [
    {
     "name": "stdout",
     "output_type": "stream",
     "text": [
      "[[-0.07101908 -0.48939529 -0.73638003 -0.82584602 -0.63446014 -0.75533509]\n",
      " [-0.5171773  -0.20781086 -0.60420602 -0.9473582  -0.45442829 -0.16535462]\n",
      " [-0.13272704 -0.42523906 -0.45727837  0.02846134 -0.47552451 -0.72724315]\n",
      " ...\n",
      " [-0.45983632  1.32694512 -0.71483291 -0.75126084 -0.48224296 -0.01117334]\n",
      " [-0.6304899   0.33524045  1.5451075   0.35365916  2.29449517  2.30716858]\n",
      " [-0.35386485 -0.6683114  -0.61599191 -0.65367604 -0.52944255 -0.26108872]]\n",
      "[[ 0.04415229 -0.78111818 -0.5682125   0.98759955 -0.17969294 -0.85811424]\n",
      " [ 0.3015243  -0.13766089 -0.45419247 -0.36359196 -0.44216155  0.44952073]\n",
      " [-0.67577263 -0.16736487  0.74753362  0.1737415   0.29539641  1.33642492]\n",
      " ...\n",
      " [-0.86239438  1.12309794  0.57886409  1.57900858  0.16978122  0.12424207]\n",
      " [-0.49088385 -0.73373855 -0.32116605 -0.87716339 -0.62264889 -0.13583648]\n",
      " [-0.00408005  0.0613756   2.09057225 -0.53937633  1.08635202  2.19364725]]\n",
      "[-0.29598942 -0.84950265  0.34672061 ... -0.05348505 -0.89138539\n",
      " -0.03679899]\n",
      "[-1.24182035 -0.42268915 -0.37808766 ...  0.43323198  0.1109963\n",
      " -0.19703124]\n"
     ]
    }
   ],
   "source": [
    "X_train=np.array(X_train)\n",
    "print(X_train)\n",
    "X_test=np.array(X_test)\n",
    "print(X_test)\n",
    "y_train=np.array(y_train)\n",
    "y_test=np.array(y_test)\n",
    "y_train=y_train.ravel()\n",
    "y_test=y_test.ravel()\n",
    "print(y_train)\n",
    "print(y_test)"
   ]
  },
  {
   "cell_type": "code",
   "execution_count": 21,
   "metadata": {},
   "outputs": [],
   "source": [
    "from sklearn.metrics import r2_score,mean_absolute_error,mean_squared_error\n",
    "\n",
    "def test_SVR(result_svr, y_test, y_predict): #linear_svr, poly_svr, rbf_svr\n",
    "    print('R-squared value of SVR is',result_svr.score(X_test,y_test))\n",
    "    print('The mean squared error of SVR is',mean_squared_error(y_test,y_predict))\n",
    "    print('The mean absolute error of SVR is',mean_absolute_error(y_test,y_predict))"
   ]
  },
  {
   "cell_type": "code",
   "execution_count": 22,
   "metadata": {},
   "outputs": [
    {
     "name": "stdout",
     "output_type": "stream",
     "text": [
      "[-5.80695843 -5.14581411 -5.92030238 ... -7.89927284 -5.1339106\n",
      " -5.4852269 ]\n",
      "R-squared value of SVR is -34.39923315822454\n",
      "The mean squared error of SVR is 35.380171020976206\n",
      "The mean absolute error of SVR is 5.76762100174762\n"
     ]
    }
   ],
   "source": [
    "from sklearn.svm import SVR\n",
    "\n",
    "linear_svr=SVR(kernel='linear', max_iter = 1000)\n",
    "linear_svr.fit(X_train,y_train)\n",
    "linear_svr_y_predict=linear_svr.predict(X_test)\n",
    "print(linear_svr_y_predict)\n",
    "\n",
    "test_SVR(linear_svr, y_test, linear_svr_y_predict)"
   ]
  },
  {
   "cell_type": "code",
   "execution_count": 23,
   "metadata": {},
   "outputs": [
    {
     "name": "stdout",
     "output_type": "stream",
     "text": [
      "[55.10164869 55.19013654 55.20402819 ... 54.83703294 55.18108531\n",
      " 55.18717707]\n",
      "R-squared value of SVR is -3044.363806915258\n",
      "The mean squared error of SVR is 3043.723908598844\n",
      "The mean absolute error of SVR is 55.131888285373954\n"
     ]
    }
   ],
   "source": [
    "poly_svr=SVR(kernel='poly', max_iter = 1000)  \n",
    "poly_svr.fit(X_train,y_train)\n",
    "poly_svr_y_predict=poly_svr.predict(X_test)\n",
    "print(poly_svr_y_predict)\n",
    "\n",
    "test_SVR(poly_svr, y_test, poly_svr_y_predict)"
   ]
  },
  {
   "cell_type": "code",
   "execution_count": 24,
   "metadata": {},
   "outputs": [
    {
     "name": "stdout",
     "output_type": "stream",
     "text": [
      "[-0.96608273 -1.39594772 -1.38890869 ... -0.47854924 -1.17846822\n",
      "  0.43672288]\n",
      "R-squared value of SVR is -0.9436743854021651\n",
      "The mean squared error of SVR is 1.9426277359525854\n",
      "The mean absolute error of SVR is 1.0571281834323034\n"
     ]
    }
   ],
   "source": [
    "rbf_svr=SVR(kernel='rbf', max_iter = 1000)  \n",
    "rbf_svr.fit(X_train,y_train)\n",
    "rbf_svr_y_predict=rbf_svr.predict(X_test)\n",
    "print(rbf_svr_y_predict)\n",
    "\n",
    "test_SVR(rbf_svr, y_test, rbf_svr_y_predict)"
   ]
  },
  {
   "cell_type": "markdown",
   "metadata": {},
   "source": [
    "After comparison, the kernel type of 'rbf' gives us the best result."
   ]
  },
  {
   "cell_type": "markdown",
   "metadata": {},
   "source": [
    "## SVR Cross Validation"
   ]
  },
  {
   "cell_type": "code",
   "execution_count": 26,
   "metadata": {},
   "outputs": [],
   "source": [
    "def SVR_mse(X_train, y_train, X_test, y_test):\n",
    "    rbf_svr=SVR(kernel='rbf', max_iter = 200)\n",
    "    rbf_svr.fit(X_train,y_train)\n",
    "    y_predict=rbf_svr.predict(X_test)\n",
    "    return mean_squared_error(y_test,y_predict)"
   ]
  },
  {
   "cell_type": "code",
   "execution_count": 27,
   "metadata": {},
   "outputs": [
    {
     "name": "stdout",
     "output_type": "stream",
     "text": [
      "The mean squared error of SVR after cross validation is 2.467784022524122\n"
     ]
    }
   ],
   "source": [
    "from sklearn.model_selection import KFold\n",
    "kf=KFold(n_splits=10)\n",
    "kfold_baseset=na.filter(['AD','DAVOL20','EMA26','RealizedVolatility','TVMA6','VEMA10','return'])\n",
    "kfold_baseset=np.array(kfold_baseset)\n",
    "X=np.array(X)\n",
    "y=np.array(y)\n",
    "MSE=0\n",
    "for train_idex, test_index in kf.split(kfold_baseset):\n",
    "    X_train,y_train=X[train_idex],y[train_idex]\n",
    "    X_test,y_test=X[test_index],y[test_index]\n",
    "    y_train=y_train.ravel()\n",
    "    y_test=y_test.ravel()\n",
    "    MSE= MSE + SVR_mse(X_train,y_train,X_test,y_test)\n",
    "print('The mean squared error of SVR after cross validation is', MSE / 10)"
   ]
  },
  {
   "cell_type": "markdown",
   "metadata": {},
   "source": [
    "## SVR predict results"
   ]
  },
  {
   "cell_type": "code",
   "execution_count": 28,
   "metadata": {},
   "outputs": [],
   "source": [
    "SVR_predict_y=rbf_svr.predict(X)"
   ]
  },
  {
   "cell_type": "code",
   "execution_count": 29,
   "metadata": {},
   "outputs": [
    {
     "name": "stdout",
     "output_type": "stream",
     "text": [
      "                0\n",
      "0        0.533958\n",
      "1        0.348088\n",
      "2        0.189241\n",
      "3        0.150924\n",
      "4        0.025128\n",
      "...           ...\n",
      "5345982 -0.832762\n",
      "5345983 -0.649730\n",
      "5345984 -0.574635\n",
      "5345985 -0.496860\n",
      "5345986 -0.528648\n",
      "\n",
      "[5345987 rows x 1 columns]\n",
      "(2557, 3569)\n"
     ]
    }
   ],
   "source": [
    "SVR_predict_y=pd.DataFrame(SVR_predict_y)\n",
    "print(SVR_predict_y)\n",
    "save_result_path = 'Data/'\n",
    "SVR_predict_y.to_csv(os.path.join(save_result_path, 'SVR_result.csv'))\n",
    "na.insert(loc=0,column='predictedy',value=SVR_predict_y.values)\n",
    "for_bt=pd.merge(melted,na,how='left',on=['date','stock'])\n",
    "for_bt=for_bt[['date','stock','predictedy']]\n",
    "#formatting\n",
    "td_bt=pd.Series(list(for_bt['predictedy']),index=[for_bt['date'],for_bt['stock']])\n",
    "td_bt=td_bt.unstack()\n",
    "save_result_path ='Data/'\n",
    "print(td_bt.shape)\n",
    "td_bt.to_csv(os.path.join(save_result_path, 'SVR.csv'))"
   ]
  },
  {
   "cell_type": "markdown",
   "metadata": {},
   "source": [
    "## Backtesting Simulation\n",
    "\n",
    "After you save the score from your new factor in the same format as \"Simple_Mean_factor.csv\". You can directly run the following codes to see the backtesting simulation results. \n",
    "\n",
    "\"helper.py\" contains all formulas and plotting functions.\n",
    "\n",
    "\"backtestlite.py\" contains the whole simulation process. \n"
   ]
  },
  {
   "cell_type": "code",
   "execution_count": 30,
   "metadata": {},
   "outputs": [
    {
     "data": {
      "image/png": "[encoded data removed]",
      "text/plain": [
       "<Figure size 432x288 with 1 Axes>"
      ]
     },
     "metadata": {
      "needs_background": "light"
     },
     "output_type": "display_data"
    },
    {
     "data": {
      "image/png": "[encoded data removed]",
      "text/plain": [
       "<Figure size 432x288 with 1 Axes>"
      ]
     },
     "metadata": {
      "needs_background": "light"
     },
     "output_type": "display_data"
    },
    {
     "data": {
      "image/png": "[encoded data removed]",
      "text/plain": [
       "<Figure size 432x288 with 1 Axes>"
      ]
     },
     "metadata": {
      "needs_background": "light"
     },
     "output_type": "display_data"
    },
    {
     "data": {
      "image/png": "[encoded data removed]",
      "text/plain": [
       "<Figure size 432x288 with 1 Axes>"
      ]
     },
     "metadata": {
      "needs_background": "light"
     },
     "output_type": "display_data"
    },
    {
     "data": {
      "image/png": "[encoded data removed]",
      "text/plain": [
       "<Figure size 432x288 with 1 Axes>"
      ]
     },
     "metadata": {
      "needs_background": "light"
     },
     "output_type": "display_data"
    }
   ],
   "source": [
    "import backtestlite as bt\n",
    "import helper\n",
    "\n",
    "working_directory = 'Data/'\n",
    "#Directory to import the factor you built\n",
    "factor_path_all = 'Data/'\n",
    "\n",
    "# Define the factor direction, (Descending or Ascending).\n",
    "# The direction could be observed by the correlation between the factor your built and the stock returns. \n",
    "# \"Descending\" if higher factor score, lower return\n",
    "# \"Ascending\" if higher factor score, higher return\n",
    "direction = \"Descending\"\n",
    "###############################################################\n",
    "\n",
    "# Parameters of backtest.\n",
    "start = '20110101' # Time horizon, can be vacation, progrmme will extract the maximum subset.\n",
    "end = '20180601'\n",
    "quantile = 5\n",
    "cycle = 5 # Adjustment Cycle (trading frequency), delay for holidays. \n",
    "win = 48 # 48 weeks in a year\n",
    "year = 2011 # Beginning year of result display (graphs).\n",
    "\n",
    "#Import stock 5days forward return.\n",
    "fwdrtn = pd.read_csv(os.path.join(working_directory, \"5DForward.csv\"), index_col = 0, parse_dates = True).loc[start:end][::cycle]\n",
    "#Import market 5days forward return.\n",
    "mkt_index = pd.read_csv(os.path.join(working_directory, \"mkt_5DForward.csv\"), index_col = 0, parse_dates = True).loc[str(start):str(end),\"SH000905\"][::cycle]\n",
    "\n",
    "status = pd.DataFrame(1, index = fwdrtn.index, columns = fwdrtn.columns)\n",
    "statuslimit = pd.DataFrame(1, index = fwdrtn.index, columns = fwdrtn.columns)\n",
    "\n",
    "# Revise the factor name (name of .csv file)\n",
    "factor = \"SVR\"\n",
    "Type = \"LS\" # this stand for long-short strategy. \n",
    "\n",
    "\n",
    "def singlefactor(factor,factor_path_all,Type,direction,fwdrtn,mkt_index,cycle, start, end, quantile,win,year, statuslimit):\n",
    "    factor_path = os.path.join(factor_path_all, factor + '.csv')\n",
    "\n",
    "    Type1 = \"LS\"\n",
    "    B = bt.Backtestlite(factor_path, direction, fwdrtn, mkt_index, factor_path_all, cycle, start, end, quantile, statuslimit)\n",
    "    B.run(Type1)\n",
    "\n",
    "    # Drawing\n",
    "    pic = helper.DrawPicture(factor,direction, B.data,  B.fwdrtn, B.data.index , mkt_index,  B.rtn_data, B.coverage, B.turnover, factor_path_all, Type1)    \n",
    "    pic.main(win,year,B.rtn_data.columns)\n",
    "    \n",
    "# Calculate performances and do the plot\n",
    "singlefactor(factor,factor_path_all,Type, direction,fwdrtn,mkt_index,cycle, start, end, quantile,win,year, statuslimit)"
   ]
  }
 ],
 "metadata": {
  "kernelspec": {
   "display_name": "Python 3",
   "language": "python",
   "name": "python3"
  },
  "language_info": {
   "codemirror_mode": {
    "name": "ipython",
    "version": 3
   },
   "file_extension": ".py",
   "mimetype": "text/x-python",
   "name": "python",
   "nbconvert_exporter": "python",
   "pygments_lexer": "ipython3",
   "version": "3.7.4"
  }
 },
 "nbformat": 4,
 "nbformat_minor": 2
}
