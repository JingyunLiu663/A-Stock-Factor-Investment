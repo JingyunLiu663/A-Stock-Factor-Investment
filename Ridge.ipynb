{
 "cells": [
  {
   "cell_type": "code",
   "execution_count": 1,
   "metadata": {},
   "outputs": [],
   "source": [
    "import pandas as pd\n",
    "import os\n",
    "from scipy import stats\n",
    "import numpy as np\n",
    "from os import listdir\n",
    "import seaborn as sns\n",
    "import matplotlib.pyplot as plt"
   ]
  },
  {
   "cell_type": "markdown",
   "metadata": {},
   "source": [
    "### Preparation: Calculate the forward returns for stocks and market indices"
   ]
  },
  {
   "cell_type": "code",
   "execution_count": 2,
   "metadata": {},
   "outputs": [
    {
     "name": "stdout",
     "output_type": "stream",
     "text": [
      "            000001.SZ  000002.SZ  000004.SZ  000005.SZ  000006.SZ  000007.SZ  \\\n",
      "date                                                                           \n",
      "2007-01-04   0.047482   0.061368   0.088638   0.186231   0.065688   0.122858   \n",
      "2007-01-05   0.188363   0.084177   0.094316   0.107551  -0.016348   0.037043   \n",
      "2007-01-08   0.219149   0.158273   0.103618   0.111985   0.006898   0.031495   \n",
      "2007-01-09   0.233333   0.230769   0.096691   0.135329   0.075422   0.031128   \n",
      "2007-01-10   0.208806   0.006994   0.083142   0.096759  -0.043272   0.007674   \n",
      "\n",
      "            000008.SZ  000009.SZ  000010.SZ  000011.SZ  ...  603987.SH  \\\n",
      "date                                                    ...              \n",
      "2007-01-04   0.250000   0.125307        0.0   0.128390  ...        NaN   \n",
      "2007-01-05   0.122891   0.073622        0.0   0.079454  ...        NaN   \n",
      "2007-01-08   0.140277   0.086213        0.0   0.092567  ...        NaN   \n",
      "2007-01-09   0.130120   0.044423        0.0   0.123708  ...        NaN   \n",
      "2007-01-10   0.000000  -0.026172        0.0   0.017069  ...        NaN   \n",
      "\n",
      "            603988.SH  603989.SH  603990.SH  603991.SH  603993.SH  603996.SH  \\\n",
      "date                                                                           \n",
      "2007-01-04        NaN        NaN        NaN        NaN        NaN        NaN   \n",
      "2007-01-05        NaN        NaN        NaN        NaN        NaN        NaN   \n",
      "2007-01-08        NaN        NaN        NaN        NaN        NaN        NaN   \n",
      "2007-01-09        NaN        NaN        NaN        NaN        NaN        NaN   \n",
      "2007-01-10        NaN        NaN        NaN        NaN        NaN        NaN   \n",
      "\n",
      "            603997.SH  603998.SH  603999.SH  \n",
      "date                                         \n",
      "2007-01-04        NaN        NaN        NaN  \n",
      "2007-01-05        NaN        NaN        NaN  \n",
      "2007-01-08        NaN        NaN        NaN  \n",
      "2007-01-09        NaN        NaN        NaN  \n",
      "2007-01-10        NaN        NaN        NaN  \n",
      "\n",
      "[5 rows x 3584 columns]\n",
      "            SH000001  SH000300  SH000905  SH000906\n",
      "2007-04-01  0.049606  0.079600  0.132588  0.091227\n",
      "2007-05-01  0.033619  0.048662  0.062853  0.051875\n",
      "2007-08-01  0.057388  0.073083  0.072668  0.073045\n",
      "2007-09-01  0.030958  0.069897  0.086235  0.073611\n",
      "2007-10-01 -0.004019  0.023475  0.048856  0.029213\n"
     ]
    }
   ],
   "source": [
    "csv_path = \"Data/\"\n",
    "stockclose = \"StockClosePrice\"\n",
    "indexclose = \"IndexClosePrice\"\n",
    "\n",
    "forward_day = 5 # this should depend on the rolling period\n",
    "\n",
    "# calculate the forward returns\n",
    "stock = pd.read_csv(stockclose + \".csv\", index_col = 0, parse_dates = True)\n",
    "stockforward = stock.shift(periods = -forward_day, freq = None, axis = 0)\n",
    "# 5Dforward(t) = (close_price(t+5)-close_price(t))/close_price(t)\n",
    "stockforwardreturn = (stockforward - stock) / stock\n",
    "print(stockforwardreturn.head())\n",
    "stockforwardreturn.to_csv(os.path.join('5DForward.csv')) #stock\n",
    "\n",
    "index = pd.read_csv(indexclose + \".csv\", index_col = 0, parse_dates = True)\n",
    "indexforward = index.shift(periods = -forward_day, freq = None, axis = 0)\n",
    "indexforwardreturn = (indexforward - index) / index\n",
    "print(indexforwardreturn.head())\n",
    "indexforwardreturn.to_csv(os.path.join('mkt_5DForward.csv')) #mkt"
   ]
  },
  {
   "cell_type": "code",
   "execution_count": 2,
   "metadata": {},
   "outputs": [],
   "source": [
    "stockforwardreturn = pd.read_csv('5DForward.csv', index_col = 0, parse_dates = True)"
   ]
  },
  {
   "cell_type": "code",
   "execution_count": 3,
   "metadata": {},
   "outputs": [
    {
     "data": {
      "text/plain": [
       "(2824, 3584)"
      ]
     },
     "execution_count": 3,
     "metadata": {},
     "output_type": "execute_result"
    }
   ],
   "source": [
    "stockforwardreturn.shape"
   ]
  },
  {
   "cell_type": "markdown",
   "metadata": {},
   "source": [
    "## Read the factors"
   ]
  },
  {
   "cell_type": "code",
   "execution_count": 4,
   "metadata": {},
   "outputs": [
    {
     "name": "stdout",
     "output_type": "stream",
     "text": [
      "            000001.SZ  000002.SZ  000004.SZ  000005.SZ  000006.SZ  000007.SZ  \\\n",
      "date                                                                           \n",
      "2008-01-02        NaN        NaN        NaN        NaN        NaN        NaN   \n",
      "2008-01-03        NaN        NaN        NaN        NaN        NaN        NaN   \n",
      "2008-01-04        NaN        NaN        NaN        NaN        NaN        NaN   \n",
      "2008-01-07        NaN        NaN        NaN        NaN        NaN        NaN   \n",
      "2008-01-08        NaN        NaN        NaN        NaN        NaN        NaN   \n",
      "\n",
      "            000008.SZ  000009.SZ  000010.SZ  000011.SZ  ...  603987.SH  \\\n",
      "date                                                    ...              \n",
      "2008-01-02        NaN        NaN        NaN        NaN  ...        NaN   \n",
      "2008-01-03        NaN        NaN        NaN        NaN  ...        NaN   \n",
      "2008-01-04        NaN        NaN        NaN        NaN  ...        NaN   \n",
      "2008-01-07        NaN        NaN        NaN        NaN  ...        NaN   \n",
      "2008-01-08        NaN        NaN        NaN        NaN  ...        NaN   \n",
      "\n",
      "            603988.SH  603989.SH  603990.SH  603991.SH  603993.SH  603996.SH  \\\n",
      "date                                                                           \n",
      "2008-01-02        NaN        NaN        NaN        NaN        NaN        NaN   \n",
      "2008-01-03        NaN        NaN        NaN        NaN        NaN        NaN   \n",
      "2008-01-04        NaN        NaN        NaN        NaN        NaN        NaN   \n",
      "2008-01-07        NaN        NaN        NaN        NaN        NaN        NaN   \n",
      "2008-01-08        NaN        NaN        NaN        NaN        NaN        NaN   \n",
      "\n",
      "            603997.SH  603998.SH  603999.SH  \n",
      "date                                         \n",
      "2008-01-02        NaN        NaN        NaN  \n",
      "2008-01-03        NaN        NaN        NaN  \n",
      "2008-01-04        NaN        NaN        NaN  \n",
      "2008-01-07        NaN        NaN        NaN  \n",
      "2008-01-08        NaN        NaN        NaN  \n",
      "\n",
      "[5 rows x 3569 columns]\n"
     ]
    }
   ],
   "source": [
    "factor_folder = \"ALL_factors/\"\n",
    "factor_list = set(os.listdir(factor_folder)) - set(['.DS_Store'])\n",
    "factor_list = list(factor_list)\n",
    "\n",
    "# Read all factor files\n",
    "# Z-score the factor values to remove the scale differences\n",
    "dfs = []\n",
    "i = 0\n",
    "for factor in factor_list:\n",
    "    dfs.append(factor)\n",
    "    df = pd.read_csv(factor_folder + factor , index_col = 0, parse_dates = True)\n",
    "    dfs[i] = (df - df.mean()) / df.std() \n",
    "    i = i + 1\n",
    "\n",
    "print(dfs[0].head())"
   ]
  },
  {
   "cell_type": "markdown",
   "metadata": {},
   "source": [
    "## Data merge"
   ]
  },
  {
   "cell_type": "code",
   "execution_count": 5,
   "metadata": {},
   "outputs": [],
   "source": [
    "# clean return data\n",
    "import datetime\n",
    "# rows cleaning\n",
    "st = datetime.datetime(2008, 1, 2, 0, 0)\n",
    "en = datetime.datetime(2018, 7, 5, 0, 0)\n",
    "rt =stockforwardreturn[st:en]"
   ]
  },
  {
   "cell_type": "code",
   "execution_count": 6,
   "metadata": {},
   "outputs": [],
   "source": [
    "# Delete the stocks that do not exist in factors files\n",
    "a = dfs[0].columns.tolist()\n",
    "b = rt.columns.tolist()\n",
    "more = list(set(b) - set(a))\n",
    "rt = rt.drop(more,axis=1)"
   ]
  },
  {
   "cell_type": "code",
   "execution_count": 7,
   "metadata": {},
   "outputs": [],
   "source": [
    "# Change the return to 2 dimension\n",
    "rt = rt.reset_index()\n",
    "value_vars = rt.columns.tolist()[1:]\n",
    "rt = pd.melt(frame=rt ,id_vars='date', value_vars=value_vars, var_name='stock',value_name='return')\n",
    "\n",
    "# Change each factor table to 2 dimension\n",
    "for i in range(len(dfs)):\n",
    "    dfs[i] = dfs[i].reset_index()\n",
    "    value_vars = dfs[i].columns.tolist()[1:]\n",
    "    value_name = factor_list[i].rstrip('.csv')\n",
    "    dfs[i] = pd.melt(frame=dfs[i],id_vars='date',value_vars=value_vars,var_name='stock',value_name=value_name)"
   ]
  },
  {
   "cell_type": "code",
   "execution_count": 8,
   "metadata": {},
   "outputs": [],
   "source": [
    "# Merge 44 factor tables\n",
    "melted = pd.DataFrame()\n",
    "melted = pd.concat([melted,dfs[0]],axis=1)\n",
    "for i in range(1,len(dfs)):\n",
    "    melted = pd.merge(left=melted,right=dfs[i],on=['date','stock'])"
   ]
  },
  {
   "cell_type": "code",
   "execution_count": 9,
   "metadata": {},
   "outputs": [
    {
     "data": {
      "text/plain": [
       "(9125933, 46)"
      ]
     },
     "execution_count": 9,
     "metadata": {},
     "output_type": "execute_result"
    }
   ],
   "source": [
    "melted.shape"
   ]
  },
  {
   "cell_type": "code",
   "execution_count": 10,
   "metadata": {},
   "outputs": [
    {
     "name": "stdout",
     "output_type": "stream",
     "text": [
      "        date      stock  RealizedVolatility    TVMA20       SUE     DAREV  \\\n",
      "0 2008-01-02  000001.SZ                 NaN -0.073158  6.085141  0.454935   \n",
      "1 2008-01-03  000001.SZ                 NaN -0.089092  6.085141 -0.619202   \n",
      "2 2008-01-04  000001.SZ                 NaN -0.097660  6.085141 -0.972252   \n",
      "3 2008-01-07  000001.SZ                 NaN -0.061294  6.085141 -1.072171   \n",
      "4 2008-01-08  000001.SZ                 NaN  0.034590  6.085141 -1.038865   \n",
      "\n",
      "   PEHist120        AD  LongTermDebtToAsset   PCFIndu  ...     TVMA6  \\\n",
      "0  -0.056532 -0.992037                  NaN -0.286648  ... -0.001905   \n",
      "1  -0.087318 -0.991141                  NaN -0.290260  ...  0.022230   \n",
      "2  -0.039740 -0.986487                  NaN -0.294426  ...  0.032540   \n",
      "3  -0.002984 -0.981773                  NaN -0.300815  ...  0.149184   \n",
      "4   0.053177 -0.981442                  NaN -0.300815  ...  0.268527   \n",
      "\n",
      "   GainVariance20  GainLossVarianceRatio20      ROE5  MoneyFlow20  \\\n",
      "0        0.874219                 0.130487 -2.057403    -0.516302   \n",
      "1        0.874219                 0.141101 -2.057403    -0.520902   \n",
      "2        0.878537                 0.143305 -2.057403    -0.523443   \n",
      "3        0.859824                 0.133320 -2.057403    -0.512757   \n",
      "4        0.325796                -0.150077 -2.057403    -0.484377   \n",
      "\n",
      "   FinancialExpenseRate  GainVariance120   TVSTD20  NonOperatingNPTTM  \\\n",
      "0                   NaN         1.754985 -0.296053          -0.135527   \n",
      "1                   NaN         1.754985 -0.338197          -0.135527   \n",
      "2                   NaN         1.728368 -0.338409          -0.135527   \n",
      "3                   NaN         1.703526 -0.306629          -0.135527   \n",
      "4                   NaN         1.675135 -0.057872          -0.135527   \n",
      "\n",
      "     return  \n",
      "0  0.082412  \n",
      "1  0.123159  \n",
      "2  0.148814  \n",
      "3  0.109267  \n",
      "4  0.040604  \n",
      "\n",
      "[5 rows x 47 columns]\n",
      "(9125933, 47)\n"
     ]
    }
   ],
   "source": [
    "# Merge the return with the factors\n",
    "melted = pd.merge(left=melted,right=rt,on=['date','stock'])\n",
    "\n",
    "print(melted.head())\n",
    "print(melted.shape)"
   ]
  },
  {
   "cell_type": "code",
   "execution_count": 11,
   "metadata": {},
   "outputs": [
    {
     "data": {
      "text/plain": [
       "(1850785, 47)"
      ]
     },
     "execution_count": 11,
     "metadata": {},
     "output_type": "execute_result"
    }
   ],
   "source": [
    "# Drop na values\n",
    "na = melted.dropna()\n",
    "na.shape"
   ]
  },
  {
   "cell_type": "markdown",
   "metadata": {},
   "source": [
    "## Train Test Split"
   ]
  },
  {
   "cell_type": "code",
   "execution_count": 12,
   "metadata": {},
   "outputs": [],
   "source": [
    "# Change X and y to pure data\n",
    "# Delete the information labels\n",
    "X=na.drop(['return','date','stock'],axis=1)\n",
    "y=na.filter(['return'])"
   ]
  },
  {
   "cell_type": "code",
   "execution_count": 13,
   "metadata": {},
   "outputs": [],
   "source": [
    "# Normalize the return\n",
    "y_n = (y - y.mean()) / y.std()"
   ]
  },
  {
   "cell_type": "code",
   "execution_count": 14,
   "metadata": {},
   "outputs": [
    {
     "name": "stdout",
     "output_type": "stream",
     "text": [
      "         RealizedVolatility    TVMA20       SUE     DAREV  PEHist120  \\\n",
      "1505660           -0.748071 -0.152824 -1.935921  0.063639  -0.043659   \n",
      "1171801           -0.015382  0.387712 -0.007923 -1.183333   0.028114   \n",
      "1115312           -0.045630  0.820369 -0.249730  1.820080   0.046810   \n",
      "1062637            0.676585 -0.101303  0.505055  0.001838  -0.020444   \n",
      "1354344           -0.758018  2.184009 -0.427864 -0.126468   2.018766   \n",
      "\n",
      "               AD  LongTermDebtToAsset   PCFIndu  MktValue  \\\n",
      "1505660 -1.178199            -0.490560 -0.018841  0.542207   \n",
      "1171801 -0.554253            -0.411818  3.066563  1.695701   \n",
      "1115312  0.375281            -0.004054  2.771882  0.852176   \n",
      "1062637 -0.298271             0.350603 -0.179703  0.973626   \n",
      "1354344  0.791503            -0.341514 -0.437504  1.131109   \n",
      "\n",
      "         InformationRatio60  ...   Price1Y     TVMA6  GainVariance20  \\\n",
      "1505660            0.778278  ...  0.537736 -0.065422        0.490233   \n",
      "1171801            0.082754  ...  1.493468  1.152403       -0.126711   \n",
      "1115312            0.309288  ...  1.832429  0.571898        0.376133   \n",
      "1062637            0.853528  ...  0.729593 -0.018474        0.412727   \n",
      "1354344            0.244968  ...  1.832750  2.881935        3.106989   \n",
      "\n",
      "         GainLossVarianceRatio20      ROE5  MoneyFlow20  FinancialExpenseRate  \\\n",
      "1505660                 1.675501 -1.519341    -0.153110             -0.237686   \n",
      "1171801                -0.276558  0.892223     0.393978             -1.675665   \n",
      "1115312                 0.935836  1.063404     0.824593             -1.346807   \n",
      "1062637                -0.548720  0.992233    -0.110470             -0.573290   \n",
      "1354344                 1.813840  0.744474     2.054067             -0.065374   \n",
      "\n",
      "         GainVariance120   TVSTD20  NonOperatingNPTTM  \n",
      "1505660         1.114344 -0.287286           0.321873  \n",
      "1171801        -0.061526  0.470504          -0.671046  \n",
      "1115312        -0.092232  0.315967          -0.380633  \n",
      "1062637        -0.231740 -0.165402          -0.927715  \n",
      "1354344         0.433109  2.099576          -1.942906  \n",
      "\n",
      "[5 rows x 44 columns]\n",
      "           return\n",
      "1505660 -0.376075\n",
      "1171801 -1.258255\n",
      "1115312 -1.763106\n",
      "1062637  0.733225\n",
      "1354344 -1.423017\n"
     ]
    }
   ],
   "source": [
    "# Split the data to train and test sets with test size 0.25\n",
    "from sklearn.model_selection import train_test_split\n",
    "\n",
    "X_train,X_test,y_train,y_test=train_test_split(X,y_n,test_size=0.25,random_state=233)\n",
    "print(X_train.head())\n",
    "print(y_train.head())"
   ]
  },
  {
   "cell_type": "markdown",
   "metadata": {},
   "source": [
    "## Fit Ridge Model"
   ]
  },
  {
   "cell_type": "code",
   "execution_count": 15,
   "metadata": {},
   "outputs": [
    {
     "name": "stdout",
     "output_type": "stream",
     "text": [
      "10.0\n"
     ]
    }
   ],
   "source": [
    "# Try the build-in cross validation function of Ridge\n",
    "from sklearn.linear_model import RidgeCV, Ridge\n",
    "\n",
    "model = RidgeCV(alphas = [0.02, 1.0, 10.0])\n",
    "model.fit(X_train, y_train)\n",
    "alpha = model.alpha_\n",
    "\n",
    "print(alpha)\n",
    "# print the best alpha selected automatically"
   ]
  },
  {
   "cell_type": "code",
   "execution_count": 16,
   "metadata": {},
   "outputs": [
    {
     "name": "stdout",
     "output_type": "stream",
     "text": [
      "MSE1: 0.9828713212778244\n",
      "MSE2: 0.9828713184650292\n",
      "MSE3: 0.9828712903854071\n"
     ]
    }
   ],
   "source": [
    "# test the MSE score of models using different alpha on test data set\n",
    "from sklearn.metrics import mean_squared_error\n",
    "\n",
    "def run_model(alpha, X_train, y_train, X_test, y_test):\n",
    "    model = Ridge(alpha = alpha)\n",
    "    model.fit(X_train, y_train)\n",
    "    pred = model.predict(X_test)\n",
    "    mse_score = mean_squared_error(y_test, pred)\n",
    "    return model, mse_score\n",
    "\n",
    "model1, mse1 = run_model(0.1, X_train, y_train, X_test, y_test)\n",
    "model2, mse2 = run_model(1.0, X_train, y_train, X_test, y_test)\n",
    "model3, mse3 = run_model(10.0, X_train, y_train, X_test, y_test)\n",
    "\n",
    "print('MSE1:', mse1)\n",
    "print('MSE2:', mse2)\n",
    "print('MSE3:', mse3)"
   ]
  },
  {
   "cell_type": "code",
   "execution_count": 17,
   "metadata": {},
   "outputs": [],
   "source": [
    "# Choose the best alpha, which is 10\n",
    "ridge_predictor = model3.predict(X)\n",
    "ridge_result=pd.DataFrame(ridge_predictor)"
   ]
  },
  {
   "cell_type": "markdown",
   "metadata": {},
   "source": [
    "## Write to csv"
   ]
  },
  {
   "cell_type": "code",
   "execution_count": 18,
   "metadata": {},
   "outputs": [
    {
     "name": "stdout",
     "output_type": "stream",
     "text": [
      "        date      stock\n",
      "0 2008-01-02  000001.SZ\n",
      "1 2008-01-03  000001.SZ\n",
      "2 2008-01-04  000001.SZ\n",
      "3 2008-01-07  000001.SZ\n",
      "4 2008-01-08  000001.SZ\n",
      "           date      stock  predictedy\n",
      "2877 2009-04-27  000002.SZ    0.075356\n",
      "2878 2009-04-28  000002.SZ    0.084639\n",
      "2879 2009-04-29  000002.SZ    0.084032\n",
      "2880 2009-04-30  000002.SZ    0.092599\n",
      "2881 2009-05-04  000002.SZ    0.116629\n"
     ]
    }
   ],
   "source": [
    "# Prepare the original data frame and the result data frame to merge together\n",
    "melted_reduce = melted[['date', 'stock']]\n",
    "print(melted_reduce.head())\n",
    "na.insert(loc=0,column='predictedy',value=ridge_result.values)\n",
    "na_reduce = na[['date', 'stock', 'predictedy']]\n",
    "print(na_reduce.head())"
   ]
  },
  {
   "cell_type": "code",
   "execution_count": 19,
   "metadata": {},
   "outputs": [],
   "source": [
    "# Merge the two data frame together\n",
    "for_bt=pd.merge(melted_reduce,na_reduce,how='left',on=['date','stock'])"
   ]
  },
  {
   "cell_type": "code",
   "execution_count": 20,
   "metadata": {},
   "outputs": [
    {
     "name": "stdout",
     "output_type": "stream",
     "text": [
      "(2557, 3569)\n"
     ]
    }
   ],
   "source": [
    "# Change to the format that can be put in Backtest\n",
    "# Write to csv\n",
    "td_bt=pd.Series(list(for_bt['predictedy']),index=[for_bt['date'],for_bt['stock']])\n",
    "td_bt=td_bt.unstack()\n",
    "print(td_bt.shape)\n",
    "save_result_path = 'Ridge_factors'\n",
    "td_bt.to_csv(os.path.join(save_result_path, 'Ridge.csv'))"
   ]
  },
  {
   "cell_type": "markdown",
   "metadata": {},
   "source": [
    "## Backtesting Simulation\n",
    "\n",
    "After you save the score from your new factor in the same format as \"Simple_Mean_factor.csv\". You can directly run the following codes to see the backtesting simulation results. \n",
    "\n",
    "\"helper.py\" contains all formulas and plotting functions.\n",
    "\n",
    "\"backtestlite.py\" contains the whole simulation process. \n",
    "\n"
   ]
  },
  {
   "cell_type": "code",
   "execution_count": 22,
   "metadata": {},
   "outputs": [
    {
     "data": {
      "image/png": "[encoded data removed]",
      "text/plain": [
       "<Figure size 432x288 with 1 Axes>"
      ]
     },
     "metadata": {
      "needs_background": "light"
     },
     "output_type": "display_data"
    },
    {
     "data": {
      "image/png": "[encoded data removed]",
      "text/plain": [
       "<Figure size 432x288 with 1 Axes>"
      ]
     },
     "metadata": {
      "needs_background": "light"
     },
     "output_type": "display_data"
    },
    {
     "data": {
      "image/png": "[encoded data removed]",
      "text/plain": [
       "<Figure size 432x288 with 1 Axes>"
      ]
     },
     "metadata": {
      "needs_background": "light"
     },
     "output_type": "display_data"
    },
    {
     "data": {
      "image/png": "[encoded data removed]",
      "text/plain": [
       "<Figure size 432x288 with 1 Axes>"
      ]
     },
     "metadata": {
      "needs_background": "light"
     },
     "output_type": "display_data"
    },
    {
     "data": {
      "image/png": "[encoded data removed]",
      "text/plain": [
       "<Figure size 432x288 with 1 Axes>"
      ]
     },
     "metadata": {
      "needs_background": "light"
     },
     "output_type": "display_data"
    }
   ],
   "source": [
    "import backtestlite as bt\n",
    "import helper\n",
    "\n",
    "working_directory = 'Data/'\n",
    "#Directory to import the factor you built\n",
    "factor_path_all = 'Ridge_factors'\n",
    "\n",
    "# Define the factor direction, (Descending or Ascending).\n",
    "# The direction could be observed by the correlation between the factor your built and the stock returns. \n",
    "# \"Descending\" if higher factor score, lower return\n",
    "# \"Ascending\" if higher factor score, higher return\n",
    "direction = \"Ascending\"\n",
    "###############################################################\n",
    "\n",
    "# Parameters of backtest.\n",
    "start = '20110101' # Time horizon, can be vacation, progrmme will extract the maximum subset.\n",
    "end = '20180601'\n",
    "quantile = 5\n",
    "cycle = 5 # Adjustment Cycle (trading frequency), delay for holidays. \n",
    "win = 48 # 48 weeks in a year\n",
    "year = 2011 # Beginning year of result display (graphs).\n",
    "\n",
    "#Import stock 5days forward return.\n",
    "fwdrtn = pd.read_csv(os.path.join(\"5DForward.csv\"), index_col = 0, parse_dates = True).loc[start:end][::cycle]\n",
    "#Import market 5days forward return.\n",
    "mkt_index = pd.read_csv(os.path.join(\"mkt_5DForward.csv\"), index_col = 0, parse_dates = True).loc[str(start):str(end),\"SH000905\"][::cycle]\n",
    "\n",
    "status = pd.DataFrame(1, index = fwdrtn.index, columns = fwdrtn.columns)\n",
    "statuslimit = pd.DataFrame(1, index = fwdrtn.index, columns = fwdrtn.columns)\n",
    "\n",
    "# Revise the factor name (name of .csv file)\n",
    "factor = \"Ridge\"\n",
    "\n",
    "Type = \"LS\" # this stand for long-short strategy. \n",
    "\n",
    "def singlefactor(factor,factor_path_all,Type,direction,fwdrtn,mkt_index,cycle, start, end, quantile,win,year, statuslimit):\n",
    "    factor_path = os.path.join(factor_path_all, factor + '.csv')\n",
    "\n",
    "    Type1 = \"LS\"\n",
    "    B = bt.Backtestlite(factor_path, direction, fwdrtn, mkt_index, factor_path_all, cycle, start, end, quantile, statuslimit)\n",
    "    B.run(Type1)\n",
    "\n",
    "    # Drawing\n",
    "    pic = helper.DrawPicture(factor,direction, B.data,  B.fwdrtn, B.data.index , mkt_index,  B.rtn_data, B.coverage, B.turnover, factor_path_all, Type1)    \n",
    "    pic.main(win,year,B.rtn_data.columns)\n",
    "    \n",
    "# Calculate performances and do the plot\n",
    "singlefactor(factor,factor_path_all,Type, direction,fwdrtn,mkt_index,cycle, start, end, quantile,win,year, statuslimit)"
   ]
  }
 ],
 "metadata": {
  "kernelspec": {
   "display_name": "Python 3",
   "language": "python",
   "name": "python3"
  },
  "language_info": {
   "codemirror_mode": {
    "name": "ipython",
    "version": 3
   },
   "file_extension": ".py",
   "mimetype": "text/x-python",
   "name": "python",
   "nbconvert_exporter": "python",
   "pygments_lexer": "ipython3",
   "version": "3.7.4"
  }
 },
 "nbformat": 4,
 "nbformat_minor": 2
}
